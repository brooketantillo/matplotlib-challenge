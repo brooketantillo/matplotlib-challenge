{
 "cells": [
  {
   "cell_type": "markdown",
   "metadata": {},
   "source": [
    "## Observations and Insights"
   ]
  },
  {
   "cell_type": "markdown",
   "metadata": {},
   "source": []
  },
  {
   "cell_type": "markdown",
   "metadata": {},
   "source": [
    "## Dependencies and starter code"
   ]
  },
  {
   "cell_type": "code",
   "execution_count": 1,
   "metadata": {},
   "outputs": [
    {
     "data": {
      "text/html": [
       "<div>\n",
       "<style scoped>\n",
       "    .dataframe tbody tr th:only-of-type {\n",
       "        vertical-align: middle;\n",
       "    }\n",
       "\n",
       "    .dataframe tbody tr th {\n",
       "        vertical-align: top;\n",
       "    }\n",
       "\n",
       "    .dataframe thead th {\n",
       "        text-align: right;\n",
       "    }\n",
       "</style>\n",
       "<table border=\"1\" class=\"dataframe\">\n",
       "  <thead>\n",
       "    <tr style=\"text-align: right;\">\n",
       "      <th></th>\n",
       "      <th>Mouse ID</th>\n",
       "      <th>Drug Regimen</th>\n",
       "      <th>Sex</th>\n",
       "      <th>Age_months</th>\n",
       "      <th>Weight (g)</th>\n",
       "      <th>Timepoint</th>\n",
       "      <th>Tumor Volume (mm3)</th>\n",
       "      <th>Metastatic Sites</th>\n",
       "    </tr>\n",
       "  </thead>\n",
       "  <tbody>\n",
       "    <tr>\n",
       "      <th>0</th>\n",
       "      <td>k403</td>\n",
       "      <td>Ramicane</td>\n",
       "      <td>Male</td>\n",
       "      <td>21</td>\n",
       "      <td>16</td>\n",
       "      <td>0</td>\n",
       "      <td>45.000000</td>\n",
       "      <td>0</td>\n",
       "    </tr>\n",
       "    <tr>\n",
       "      <th>1</th>\n",
       "      <td>k403</td>\n",
       "      <td>Ramicane</td>\n",
       "      <td>Male</td>\n",
       "      <td>21</td>\n",
       "      <td>16</td>\n",
       "      <td>5</td>\n",
       "      <td>38.825898</td>\n",
       "      <td>0</td>\n",
       "    </tr>\n",
       "    <tr>\n",
       "      <th>2</th>\n",
       "      <td>k403</td>\n",
       "      <td>Ramicane</td>\n",
       "      <td>Male</td>\n",
       "      <td>21</td>\n",
       "      <td>16</td>\n",
       "      <td>10</td>\n",
       "      <td>35.014271</td>\n",
       "      <td>1</td>\n",
       "    </tr>\n",
       "    <tr>\n",
       "      <th>3</th>\n",
       "      <td>k403</td>\n",
       "      <td>Ramicane</td>\n",
       "      <td>Male</td>\n",
       "      <td>21</td>\n",
       "      <td>16</td>\n",
       "      <td>15</td>\n",
       "      <td>34.223992</td>\n",
       "      <td>1</td>\n",
       "    </tr>\n",
       "    <tr>\n",
       "      <th>4</th>\n",
       "      <td>k403</td>\n",
       "      <td>Ramicane</td>\n",
       "      <td>Male</td>\n",
       "      <td>21</td>\n",
       "      <td>16</td>\n",
       "      <td>20</td>\n",
       "      <td>32.997729</td>\n",
       "      <td>1</td>\n",
       "    </tr>\n",
       "  </tbody>\n",
       "</table>\n",
       "</div>"
      ],
      "text/plain": [
       "  Mouse ID Drug Regimen   Sex  Age_months  Weight (g)  Timepoint  \\\n",
       "0     k403     Ramicane  Male          21          16          0   \n",
       "1     k403     Ramicane  Male          21          16          5   \n",
       "2     k403     Ramicane  Male          21          16         10   \n",
       "3     k403     Ramicane  Male          21          16         15   \n",
       "4     k403     Ramicane  Male          21          16         20   \n",
       "\n",
       "   Tumor Volume (mm3)  Metastatic Sites  \n",
       "0           45.000000                 0  \n",
       "1           38.825898                 0  \n",
       "2           35.014271                 1  \n",
       "3           34.223992                 1  \n",
       "4           32.997729                 1  "
      ]
     },
     "execution_count": 1,
     "metadata": {},
     "output_type": "execute_result"
    }
   ],
   "source": [
    "# Dependencies and Setup\n",
    "import matplotlib.pyplot as plt\n",
    "import pandas as pd\n",
    "import scipy.stats as st\n",
    "import numpy as np\n",
    "\n",
    "# Study data files\n",
    "mouse_metadata = \"data/Mouse_metadata.csv\"\n",
    "study_results = \"data/Study_results.csv\"\n",
    "\n",
    "# Read the mouse data and the study results\n",
    "mouse_metadata = pd.read_csv(mouse_metadata)\n",
    "study_results = pd.read_csv(study_results)\n",
    "\n",
    "# Combine the data into a single dataset\n",
    "combined_data_df = pd.merge(mouse_metadata, study_results, how='outer', on='Mouse ID')\n",
    "combined_data_df.head()"
   ]
  },
  {
   "cell_type": "markdown",
   "metadata": {},
   "source": [
    "## Summary statistics"
   ]
  },
  {
   "cell_type": "code",
   "execution_count": 2,
   "metadata": {},
   "outputs": [
    {
     "data": {
      "text/html": [
       "<div>\n",
       "<style scoped>\n",
       "    .dataframe tbody tr th:only-of-type {\n",
       "        vertical-align: middle;\n",
       "    }\n",
       "\n",
       "    .dataframe tbody tr th {\n",
       "        vertical-align: top;\n",
       "    }\n",
       "\n",
       "    .dataframe thead th {\n",
       "        text-align: right;\n",
       "    }\n",
       "</style>\n",
       "<table border=\"1\" class=\"dataframe\">\n",
       "  <thead>\n",
       "    <tr style=\"text-align: right;\">\n",
       "      <th></th>\n",
       "      <th>Mean</th>\n",
       "      <th>Median</th>\n",
       "      <th>Variance</th>\n",
       "      <th>Std Dev</th>\n",
       "      <th>SEM</th>\n",
       "    </tr>\n",
       "    <tr>\n",
       "      <th>Drug Regimen</th>\n",
       "      <th></th>\n",
       "      <th></th>\n",
       "      <th></th>\n",
       "      <th></th>\n",
       "      <th></th>\n",
       "    </tr>\n",
       "  </thead>\n",
       "  <tbody>\n",
       "    <tr>\n",
       "      <th>Capomulin</th>\n",
       "      <td>40.68</td>\n",
       "      <td>41.56</td>\n",
       "      <td>24.95</td>\n",
       "      <td>4.99</td>\n",
       "      <td>0.33</td>\n",
       "    </tr>\n",
       "    <tr>\n",
       "      <th>Ceftamin</th>\n",
       "      <td>52.59</td>\n",
       "      <td>51.78</td>\n",
       "      <td>39.29</td>\n",
       "      <td>6.27</td>\n",
       "      <td>0.47</td>\n",
       "    </tr>\n",
       "    <tr>\n",
       "      <th>Infubinol</th>\n",
       "      <td>52.88</td>\n",
       "      <td>51.82</td>\n",
       "      <td>43.13</td>\n",
       "      <td>6.57</td>\n",
       "      <td>0.49</td>\n",
       "    </tr>\n",
       "    <tr>\n",
       "      <th>Ketapril</th>\n",
       "      <td>55.24</td>\n",
       "      <td>53.70</td>\n",
       "      <td>68.55</td>\n",
       "      <td>8.28</td>\n",
       "      <td>0.60</td>\n",
       "    </tr>\n",
       "    <tr>\n",
       "      <th>Naftisol</th>\n",
       "      <td>54.33</td>\n",
       "      <td>52.51</td>\n",
       "      <td>66.17</td>\n",
       "      <td>8.13</td>\n",
       "      <td>0.60</td>\n",
       "    </tr>\n",
       "    <tr>\n",
       "      <th>Placebo</th>\n",
       "      <td>54.03</td>\n",
       "      <td>52.29</td>\n",
       "      <td>61.17</td>\n",
       "      <td>7.82</td>\n",
       "      <td>0.58</td>\n",
       "    </tr>\n",
       "    <tr>\n",
       "      <th>Propriva</th>\n",
       "      <td>52.32</td>\n",
       "      <td>50.85</td>\n",
       "      <td>42.35</td>\n",
       "      <td>6.51</td>\n",
       "      <td>0.51</td>\n",
       "    </tr>\n",
       "    <tr>\n",
       "      <th>Ramicane</th>\n",
       "      <td>40.22</td>\n",
       "      <td>40.67</td>\n",
       "      <td>23.49</td>\n",
       "      <td>4.85</td>\n",
       "      <td>0.32</td>\n",
       "    </tr>\n",
       "    <tr>\n",
       "      <th>Stelasyn</th>\n",
       "      <td>54.23</td>\n",
       "      <td>52.43</td>\n",
       "      <td>59.45</td>\n",
       "      <td>7.71</td>\n",
       "      <td>0.57</td>\n",
       "    </tr>\n",
       "    <tr>\n",
       "      <th>Zoniferol</th>\n",
       "      <td>53.24</td>\n",
       "      <td>51.82</td>\n",
       "      <td>48.53</td>\n",
       "      <td>6.97</td>\n",
       "      <td>0.52</td>\n",
       "    </tr>\n",
       "  </tbody>\n",
       "</table>\n",
       "</div>"
      ],
      "text/plain": [
       "               Mean Median Variance Std Dev   SEM\n",
       "Drug Regimen                                     \n",
       "Capomulin     40.68  41.56    24.95    4.99  0.33\n",
       "Ceftamin      52.59  51.78    39.29    6.27  0.47\n",
       "Infubinol     52.88  51.82    43.13    6.57  0.49\n",
       "Ketapril      55.24  53.70    68.55    8.28  0.60\n",
       "Naftisol      54.33  52.51    66.17    8.13  0.60\n",
       "Placebo       54.03  52.29    61.17    7.82  0.58\n",
       "Propriva      52.32  50.85    42.35    6.51  0.51\n",
       "Ramicane      40.22  40.67    23.49    4.85  0.32\n",
       "Stelasyn      54.23  52.43    59.45    7.71  0.57\n",
       "Zoniferol     53.24  51.82    48.53    6.97  0.52"
      ]
     },
     "execution_count": 2,
     "metadata": {},
     "output_type": "execute_result"
    }
   ],
   "source": [
    "# Generate a summary statistics table of mean, median, variance, standard deviation, and SEM of the tumor volume for each regimen\n",
    "\n",
    "# Groupby regimen\n",
    "regimen_group_df = combined_data_df.groupby('Drug Regimen')\n",
    "\n",
    "# Calculate mean, median, variance, standard deviation, and SEM\n",
    "mean_volume = regimen_group_df['Tumor Volume (mm3)'].mean()\n",
    "median_volume = regimen_group_df['Tumor Volume (mm3)'].median()\n",
    "var_volume = regimen_group_df['Tumor Volume (mm3)'].var()\n",
    "std_volume = regimen_group_df['Tumor Volume (mm3)'].std()\n",
    "sem_volume = regimen_group_df['Tumor Volume (mm3)'].sem()\n",
    "\n",
    "# Display summary in DataFrame\n",
    "summary_volume_df = pd.DataFrame({\"Mean\": mean_volume,\n",
    "                                  \"Median\": median_volume,\n",
    "                                  \"Variance\": var_volume,\n",
    "                                  \"Std Dev\": std_volume,\n",
    "                                  \"SEM\": sem_volume})\n",
    "# Format DataFrame\n",
    "summary_volume_df['Mean'] = summary_volume_df['Mean'].map(\"{:.2f}\".format)\n",
    "summary_volume_df['Median'] = summary_volume_df['Median'].map(\"{:.2f}\".format)\n",
    "summary_volume_df['Variance'] = summary_volume_df['Variance'].map(\"{:.2f}\".format)\n",
    "summary_volume_df['Std Dev'] = summary_volume_df['Std Dev'].map(\"{:.2f}\".format)\n",
    "summary_volume_df['SEM'] = summary_volume_df['SEM'].map(\"{:.2f}\".format)\n",
    "\n",
    "summary_volume_df"
   ]
  },
  {
   "cell_type": "markdown",
   "metadata": {},
   "source": [
    "## Bar plots"
   ]
  },
  {
   "cell_type": "code",
   "execution_count": 3,
   "metadata": {
    "scrolled": true
   },
   "outputs": [
    {
     "data": {
      "image/png": "[encoded data removed]",
      "text/plain": [
       "<Figure size 432x288 with 1 Axes>"
      ]
     },
     "metadata": {
      "needs_background": "light"
     },
     "output_type": "display_data"
    }
   ],
   "source": [
    "# Generate a bar plot showing number of data points for each treatment regimen using pandas\n",
    "\n",
    "# Filter DataFrame down to columns to chart\n",
    "data_points_treatment = combined_data_df.groupby('Drug Regimen')['Mouse ID'].count()\n",
    "\n",
    "# Create bar plot with pandas\n",
    "bar_pandas = data_points_treatment.plot(kind='bar', color='blue')\n",
    "\n",
    "# Assign labels\n",
    "bar_pandas.set_ylabel('Data Points')\n",
    "bar_pandas.set_title('Number of Data Points for Each Treatment Regimen')\n",
    "\n",
    "plt.show(bar_pandas)"
   ]
  },
  {
   "cell_type": "code",
   "execution_count": 4,
   "metadata": {},
   "outputs": [
    {
     "data": {
      "image/png": "[encoded data removed]",
      "text/plain": [
       "<Figure size 432x288 with 1 Axes>"
      ]
     },
     "metadata": {
      "needs_background": "light"
     },
     "output_type": "display_data"
    },
    {
     "data": {
      "text/plain": [
       "<Figure size 432x288 with 0 Axes>"
      ]
     },
     "metadata": {},
     "output_type": "display_data"
    }
   ],
   "source": [
    "# Generate a bar plot showing number of data points for each treatment regimen using pyplot\n",
    "\n",
    "# Filter DataFrame down to columns to chart\n",
    "data_points_treatment = pd.DataFrame(combined_data_df.groupby('Drug Regimen')['Mouse ID'].count())\n",
    "\n",
    "# Create bar plot with pyplot\n",
    "plt.bar(data_points_treatment.index, data_points_treatment['Mouse ID'], color='b', align='center')\n",
    "\n",
    "# Assign Labels\n",
    "plt.ylabel('Data Points')\n",
    "plt.xlabel('Drug Regimen')\n",
    "plt.title('Number of Data Points for Each Treatment Regimen')\n",
    "plt.xticks(rotation='vertical')\n",
    "\n",
    "plt.show()\n",
    "plt.tight_layout()"
   ]
  },
  {
   "cell_type": "markdown",
   "metadata": {},
   "source": [
    "## Pie plots"
   ]
  },
  {
   "cell_type": "code",
   "execution_count": 5,
   "metadata": {},
   "outputs": [
    {
     "data": {
      "image/png": "[encoded data removed]",
      "text/plain": [
       "<Figure size 432x288 with 1 Axes>"
      ]
     },
     "metadata": {},
     "output_type": "display_data"
    }
   ],
   "source": [
    "# Generate a pie plot showing the distribution of female versus male mice using pandas\n",
    "mouse_gender = combined_data_df.loc[:,['Sex', 'Mouse ID']].drop_duplicates('Mouse ID')\n",
    "mouse_gender_count = mouse_gender['Sex'].value_counts()\n",
    "\n",
    "# Create pie plot\n",
    "gender_pie_pandas = mouse_gender_count.plot(kind='pie',autopct='%1.1F%%', label = '')\n",
    "\n",
    "# Create title\n",
    "gender_pie_pandas.set_title('Female vs Male Mice')\n",
    "plt.show()"
   ]
  },
  {
   "cell_type": "code",
   "execution_count": null,
   "metadata": {},
   "outputs": [],
   "source": [
    "# Generate a pie plot showing the distribution of female versus male mice using pyplot\n",
    "plt.pie(mouse_gender_count, labels=mouse_gender_count.index,autopct='%1.1F%%' )\n",
    "\n",
    "plt.title('Female vs Male Mice')\n",
    "plt.show()"
   ]
  },
  {
   "cell_type": "markdown",
   "metadata": {},
   "source": [
    "## Quartiles, outliers and boxplots"
   ]
  },
  {
   "cell_type": "code",
   "execution_count": 6,
   "metadata": {},
   "outputs": [
    {
     "name": "stdout",
     "output_type": "stream",
     "text": [
      "The lower quartile of Ramicane is: 31.56\n",
      "The upper quartile of Ramicane is: 40.66\n",
      "The interquartile range of Ramicane is: 9.1\n",
      "Values below 17.91 could be outliers for Ramicane.\n",
      "Values above 27.01 could be outliers for Ramicane.\n",
      "\n",
      "The lower quartile of Capomulin is: 32.38\n",
      "The upper quartile of Capomulin is: 40.16\n",
      "The interquartile range of Capomulin is: 7.78\n",
      "Values below 18.73 could be outliers for Capomulin.\n",
      "Values above 26.51 could be outliers for Capomulin.\n",
      "\n",
      "The lower quartile of Ceftamin is: 48.72\n",
      "The upper quartile of Ceftamin is: 64.3\n",
      "The interquartile range of Ceftamin is: 15.58\n",
      "Values below 18.73 could be outliers for Ceftamin.\n",
      "Values above 26.51 could be outliers for Ceftamin.\n",
      "\n",
      "The lower quartile of Infubinol is: 54.05\n",
      "The upper quartile of Infubinol is: 65.53\n",
      "The interquartile range of Infubinol is: 11.48\n",
      "Values below 36.83 could be outliers for Infubinol.\n",
      "Values above 48.31 could be outliers for Infubinol.\n",
      "\n"
     ]
    }
   ],
   "source": [
    "# Calculate the final tumor volume of each mouse across four of the most promising treatment regimens. \n",
    "#Calculate the IQR and quantitatively determine if there are any potential outliers. \n",
    "\n",
    "# Ramicane final tumor volume\n",
    "ramicane = combined_data_df.loc[combined_data_df['Drug Regimen'].isin(['Ramicane'])]\n",
    "ramicane_tumor_volume = ramicane.groupby(['Mouse ID', 'Drug Regimen'])['Tumor Volume (mm3)'].last()\n",
    "\n",
    "#Ramicane IQR\n",
    "ramicane_quartiles = ramicane_tumor_volume.quantile([.25,.5,.75])\n",
    "ramicane_lowerq = ramicane_quartiles[.25]\n",
    "ramicane_upperq = ramicane_quartiles[.75]\n",
    "ramicane_iqr = ramicane_upperq - ramicane_lowerq\n",
    "print(f\"The lower quartile of Ramicane is: {round(ramicane_lowerq,2)}\")\n",
    "print(f\"The upper quartile of Ramicane is: {round(ramicane_upperq,2)}\")\n",
    "print(f\"The interquartile range of Ramicane is: {round(ramicane_iqr,2)}\")\n",
    "\n",
    "\n",
    "# Ramicane potential outliers\n",
    "ramicane_lower_bound = ramicane_lowerq - (1.5*ramicane_iqr)\n",
    "ramicane_upper_bound = ramicane_upperq - (1.5*ramicane_iqr)\n",
    "print(f\"Values below {round(ramicane_lower_bound,2)} could be outliers for Ramicane.\")\n",
    "print(f\"Values above {round(ramicane_upper_bound,2)} could be outliers for Ramicane.\\n\")\n",
    "\n",
    "# Capomulin final tumor volume\n",
    "capomulin = combined_data_df.loc[combined_data_df['Drug Regimen'].isin(['Capomulin'])]\n",
    "capomulin_tumor_volume = capomulin.groupby(['Mouse ID', 'Drug Regimen'])['Tumor Volume (mm3)'].last()\n",
    "\n",
    "# Capomulin IQR\n",
    "capomulin_quartiles = capomulin_tumor_volume.quantile([.25,.5,.75])\n",
    "capomulin_lowerq = capomulin_quartiles[.25]\n",
    "capomulin_upperq = capomulin_quartiles[.75]\n",
    "capomulin_iqr = capomulin_upperq - capomulin_lowerq\n",
    "print(f\"The lower quartile of Capomulin is: {round(capomulin_lowerq,2)}\")\n",
    "print(f\"The upper quartile of Capomulin is: {round(capomulin_upperq,2)}\")\n",
    "print(f\"The interquartile range of Capomulin is: {round(capomulin_iqr,2)}\")\n",
    "\n",
    "\n",
    "# Capomulin potential outliers\n",
    "capomulin_lower_bound = capomulin_lowerq - (1.5*ramicane_iqr)\n",
    "capomulin_upper_bound = capomulin_upperq - (1.5*ramicane_iqr)\n",
    "print(f\"Values below {round(capomulin_lower_bound,2)} could be outliers for Capomulin.\")\n",
    "print(f\"Values above {round(capomulin_upper_bound,2)} could be outliers for Capomulin.\\n\")\n",
    "\n",
    "# Ceftamin final tumor volume\n",
    "ceftamin = combined_data_df.loc[combined_data_df['Drug Regimen'].isin(['Ceftamin'])]\n",
    "ceftamin_tumor_volume = ceftamin.groupby(['Mouse ID', 'Drug Regimen'])['Tumor Volume (mm3)'].last()\n",
    "\n",
    "\n",
    "# Ceftamin IQR\n",
    "ceftamin_quartiles = ceftamin_tumor_volume.quantile([.25,.5,.75])\n",
    "ceftamin_lowerq = ceftamin_quartiles[.25]\n",
    "ceftamin_upperq = ceftamin_quartiles[.75]\n",
    "ceftamin_iqr = ceftamin_upperq - ceftamin_lowerq\n",
    "print(f\"The lower quartile of Ceftamin is: {round(ceftamin_lowerq,2)}\")\n",
    "print(f\"The upper quartile of Ceftamin is: {round(ceftamin_upperq,2)}\")\n",
    "print(f\"The interquartile range of Ceftamin is: {round(ceftamin_iqr,2)}\")\n",
    "\n",
    "# Ceftamin potential outliers\n",
    "ceftamin_lower_bound = ceftamin_lowerq - (1.5*ceftamin_iqr)\n",
    "ceftamin_upper_bound = ceftamin_upperq - (1.5*ceftamin_iqr)\n",
    "print(f\"Values below {round(capomulin_lower_bound,2)} could be outliers for Ceftamin.\")\n",
    "print(f\"Values above {round(capomulin_upper_bound,2)} could be outliers for Ceftamin.\\n\")\n",
    "\n",
    "# Infubinol final tumor volume\n",
    "infubinol = combined_data_df.loc[combined_data_df['Drug Regimen'].isin(['Infubinol'])]\n",
    "infubinol_tumor_volume = infubinol.groupby(['Mouse ID', 'Drug Regimen'])['Tumor Volume (mm3)'].last()\n",
    "\n",
    "# Infubinol IQR\n",
    "infubinol_quartiles = infubinol_tumor_volume.quantile([.25,.5,.75])\n",
    "infubinol_lowerq = infubinol_quartiles[.25]\n",
    "infubinol_upperq = infubinol_quartiles[.75]\n",
    "infubinol_iqr = infubinol_upperq - infubinol_lowerq\n",
    "print(f\"The lower quartile of Infubinol is: {round(infubinol_lowerq,2)}\")\n",
    "print(f\"The upper quartile of Infubinol is: {round(infubinol_upperq,2)}\")\n",
    "print(f\"The interquartile range of Infubinol is: {round(infubinol_iqr,2)}\")\n",
    "\n",
    "# Infubinol potential outliers\n",
    "infubinol_lower_bound = infubinol_lowerq - (1.5*infubinol_iqr)\n",
    "infubinol_upper_bound = infubinol_upperq - (1.5*infubinol_iqr)\n",
    "print(f\"Values below {round(infubinol_lower_bound,2)} could be outliers for Infubinol.\")\n",
    "print(f\"Values above {round(infubinol_upper_bound,2)} could be outliers for Infubinol.\\n\")"
   ]
  },
  {
   "cell_type": "code",
   "execution_count": 7,
   "metadata": {},
   "outputs": [
    {
     "data": {
      "text/plain": [
       "<function matplotlib.pyplot.show(*args, **kw)>"
      ]
     },
     "execution_count": 7,
     "metadata": {},
     "output_type": "execute_result"
    },
    {
     "data": {
      "image/png": "[encoded data removed]",
      "text/plain": [
       "<Figure size 432x288 with 1 Axes>"
      ]
     },
     "metadata": {
      "needs_background": "light"
     },
     "output_type": "display_data"
    }
   ],
   "source": [
    "# Generate a box plot of the final tumor volume of each mouse across four regimens of interest\n",
    "\n",
    "flierprops = dict(marker='o', markerfacecolor='red', markersize=15, linestyle='none')\n",
    "\n",
    "plt.boxplot([ramicane_tumor_volume, capomulin_tumor_volume, ceftamin_tumor_volume, infubinol_tumor_volume], labels = ['Ramicane', 'Capomulin', 'Ceftamin', 'Infubinol'], flierprops=flierprops)\n",
    "plt.xlabel(\"Drug Regimen\")\n",
    "plt.ylabel(\"Final Tumor Volume (mm3)\")\n",
    "plt.title('Final Tumor Volume of Each Mouse for Top Performing Drug Regimen')\n",
    "\n",
    "\n",
    "\n",
    "plt.show"
   ]
  },
  {
   "cell_type": "markdown",
   "metadata": {},
   "source": [
    "## Line and scatter plots"
   ]
  },
  {
   "cell_type": "code",
   "execution_count": 8,
   "metadata": {},
   "outputs": [
    {
     "data": {
      "text/plain": [
       "<function matplotlib.pyplot.show(*args, **kw)>"
      ]
     },
     "execution_count": 8,
     "metadata": {},
     "output_type": "execute_result"
    },
    {
     "data": {
      "image/png": "[encoded data removed]",
      "text/plain": [
       "<Figure size 432x288 with 1 Axes>"
      ]
     },
     "metadata": {
      "needs_background": "light"
     },
     "output_type": "display_data"
    }
   ],
   "source": [
    "# Generate a line plot of time point versus tumor volume for a mouse treated with Capomulin\n",
    "# Generate Capomulin data\n",
    "capomulin_mouse = combined_data_df.loc[combined_data_df['Drug Regimen'].isin(['Capomulin'])]\n",
    "\n",
    "# Select a mouse to use for data 'i557'\n",
    "capomulin_mouse_i557 = capomulin_mouse.loc[capomulin_mouse['Mouse ID'].isin(['i557'])]\n",
    "capomulin_mouse_i557\n",
    "\n",
    "# Create line plot\n",
    "plt.plot(capomulin_mouse_i557['Timepoint'], capomulin_mouse_i557['Tumor Volume (mm3)'])\n",
    "plt.xlabel('Time (Days)')\n",
    "plt.ylabel('Tumor Volume (mm3)')\n",
    "plt.title('Mouse i557 Tumor Volume Over 45 Days')\n",
    "plt.show"
   ]
  },
  {
   "cell_type": "code",
   "execution_count": 9,
   "metadata": {},
   "outputs": [
    {
     "data": {
      "image/png": "[encoded data removed]",
      "text/plain": [
       "<Figure size 432x288 with 1 Axes>"
      ]
     },
     "metadata": {
      "needs_background": "light"
     },
     "output_type": "display_data"
    }
   ],
   "source": [
    "# Generate a scatter plot of mouse weight versus average tumor volume for the Capomulin regimen\n",
    "cap_weight_tumor = combined_data_df.loc[combined_data_df['Drug Regimen'].isin(['Capomulin'])]\n",
    "cap_weight_tumor\n",
    "\n",
    "plt.scatter(cap_weight_tumor['Weight (g)'], cap_weight_tumor['Tumor Volume (mm3)'])\n",
    "plt.xlabel(\"Weight (g)\")\n",
    "plt.ylabel('Average Tumor Volume (mm3)')\n",
    "plt.title('Mouse Weight vs. Average Tumor Volume for Capomulin')\n",
    "plt.show()"
   ]
  },
  {
   "cell_type": "code",
   "execution_count": null,
   "metadata": {},
   "outputs": [],
   "source": [
    "# Calculate the correlation coefficient and linear regression model for mouse weight and average tumor volume for the Capomulin regimen\n",
    "\n"
   ]
  },
  {
   "cell_type": "code",
   "execution_count": null,
   "metadata": {},
   "outputs": [],
   "source": []
  }
 ],
 "metadata": {
  "anaconda-cloud": {},
  "kernelspec": {
   "display_name": "Python 3",
   "language": "python",
   "name": "python3"
  },
  "language_info": {
   "codemirror_mode": {
    "name": "ipython",
    "version": 3
   },
   "file_extension": ".py",
   "mimetype": "text/x-python",
   "name": "python",
   "nbconvert_exporter": "python",
   "pygments_lexer": "ipython3",
   "version": "3.6.10"
  }
 },
 "nbformat": 4,
 "nbformat_minor": 2
}
